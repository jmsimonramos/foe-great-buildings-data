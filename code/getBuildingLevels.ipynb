{
 "cells": [
  {
   "cell_type": "code",
   "execution_count": 1,
   "metadata": {},
   "outputs": [],
   "source": [
    "import pandas as pd\n",
    "import re\n",
    "import time\n",
    "import requests\n",
    "import unidecode\n",
    "import os\n",
    "import math\n",
    "\n",
    "from selenium import webdriver\n",
    "from webdriver_manager.chrome import ChromeDriverManager\n",
    "from selenium.webdriver.common.by import By\n",
    "from selenium.webdriver.support.ui import WebDriverWait\n",
    "from selenium.webdriver.support import expected_conditions as EC\n",
    "from selenium.common.exceptions import TimeoutException"
   ]
  },
  {
   "cell_type": "code",
   "execution_count": 2,
   "metadata": {},
   "outputs": [],
   "source": [
    "class GreatBuilding():\n",
    "    def __init__(self, name_esp, name_ing, levels):\n",
    "        self.name_esp = name_esp\n",
    "        self.name_ing = name_ing\n",
    "        self.levels = levels\n",
    "        self.dataFrame = None\n",
    "    \n",
    "    def __str__(self):\n",
    "        return f\"Name ESP: {self.name_esp} --> Name ING: {self.name_ing}\\nNº Levels: {len(self.levels)}\"\n",
    "    \n",
    "    def createDataFrame(self):\n",
    "        levels_data = []\n",
    "        # Create a list of dictionaries to store the data to create de final DataFrame\n",
    "        for level in self.levels:\n",
    "            levels_data.append({\n",
    "                \"Current Level\": level.current_level,\n",
    "                \"Goal Level\": level.goal_level,\n",
    "                \"Total Fps\": level.total_fp,\n",
    "                \"Owner Investment\": level.owner_investment,\n",
    "                \"P1 Reward\": level.p1,\n",
    "                \"P2 Reward\": level.p2,\n",
    "                \"P3 Reward\": level.p3,\n",
    "                \"P4 Reward\": level.p4,\n",
    "                \"P5 Reward\": level.p5,\n",
    "            })\n",
    "        \n",
    "        self.dataFrame = pd.DataFrame(data=levels_data)\n",
    "    \n",
    "    def saveDataFrame(self):\n",
    "        # We remove accents and problematic characters, remove blank spaces and format the text to CamelCase.\n",
    "        format_name = unidecode.unidecode( \"\".join(word for word in self.name_esp.title() if not word.isspace()) )\n",
    "\n",
    "        self.dataFrame.to_csv(f\"../data/buildings/{format_name}.csv\", index=False, header=True, sep=\";\", encoding=\"utf-8\")"
   ]
  },
  {
   "cell_type": "code",
   "execution_count": 3,
   "metadata": {},
   "outputs": [],
   "source": [
    "class Level():\n",
    "    def __init__(self, current_level, goal_level, total_fp, owner_investment, p1, p2, p3, p4, p5):\n",
    "        self.current_level = current_level\n",
    "        self.goal_level = goal_level\n",
    "        self.total_fp = total_fp\n",
    "        self.owner_investment = owner_investment\n",
    "        self.p1, self.p2, self.p3, self.p4, self.p5 = p1, p2, p3, p4, p5\n",
    "\n",
    "    def __str__(self):\n",
    "        return f\"Current Level: {self.current_level} \\Goal Level: {self.goal_level} \\nTotal Fps: {self.total_fp} \\nOwner Investment: {self.owner_investment} \\nP1: {self.p1} \\nP2: {self.p2} \\nP3: {self.p3} \\nP4: {self.p4} \\nP5: {self.p5}\""
   ]
  },
  {
   "cell_type": "code",
   "execution_count": 4,
   "metadata": {},
   "outputs": [],
   "source": [
    "def getDataLevels(min_level, max_level):\n",
    "    levels_data = []\n",
    "    for level in range(min_level, max_level + 1):\n",
    "        print(f\"Level: {level} of {max_level}\") # Showing scraping progress\n",
    "\n",
    "        # We clear the data input field and set the value of the building level at each step of the iteration\n",
    "        GB_level_input.clear() \n",
    "        GB_level_input.send_keys( str(level) )\n",
    "        # We obtain the table where the building data appears and we format it in list mode\n",
    "        rewardsTable = driver.find_element(By.CLASS_NAME, \"gbiTable\") \\\n",
    "            .text.split(\"\\n\")\n",
    "        \n",
    "        # We extract the date from rewards table\n",
    "        GB_level = getDataFromRewardsTable(rewardsTable)\n",
    "        \n",
    "        # We use the iteration variable to get missing attributes\n",
    "        GB_level.current_level = level - 1\n",
    "        GB_level.next_level = level\n",
    "        \n",
    "        levels_data.append(GB_level)  \n",
    "    \n",
    "    return levels_data"
   ]
  },
  {
   "cell_type": "code",
   "execution_count": 5,
   "metadata": {},
   "outputs": [],
   "source": [
    "def getDataFromRewardsTable(rewards_table):\n",
    "    owner_investment = int( \"\".join( re.findall(r'\\d', rewards_table[-2]) ) )\n",
    "    total_fp = int( \"\".join( re.findall(r'\\d', rewards_table[-1]) ) )\n",
    "    p1 = rewards_table[3].split(\" \")[1]\n",
    "    p2 = rewards_table[5].split(\" \")[1]\n",
    "    p3 = rewards_table[7].split(\" \")[1]\n",
    "    p4 = rewards_table[9].split(\" \")[1]\n",
    "    p5 = rewards_table[11].split(\" \")[1]\n",
    "\n",
    "    return Level(\"\", \"\", total_fp, owner_investment, p1, p2, p3, p4, p5)"
   ]
  },
  {
   "cell_type": "markdown",
   "metadata": {},
   "source": [
    "## Step 1: Extraction of the names of the buildings and links of their pages"
   ]
  },
  {
   "cell_type": "code",
   "execution_count": 6,
   "metadata": {},
   "outputs": [
    {
     "name": "stderr",
     "output_type": "stream",
     "text": [
      "\n",
      "\n",
      "====== WebDriver manager ======\n",
      "Current google-chrome version is 99.0.4844\n",
      "Get LATEST chromedriver version for 99.0.4844 google-chrome\n",
      "Driver [/Users/jmsimonramos/.wdm/drivers/chromedriver/mac64/99.0.4844.51/chromedriver] found in cache\n",
      "/opt/homebrew/anaconda3/envs/foe/lib/python3.7/site-packages/ipykernel_launcher.py:2: DeprecationWarning: executable_path has been deprecated, please pass in a Service object\n",
      "  \n"
     ]
    }
   ],
   "source": [
    "# Open browser\n",
    "driver = webdriver.Chrome(ChromeDriverManager().install())\n",
    "driver.implicitly_wait(10)"
   ]
  },
  {
   "cell_type": "code",
   "execution_count": 7,
   "metadata": {},
   "outputs": [
    {
     "name": "stdout",
     "output_type": "stream",
     "text": [
      "WebPage Loaded\n",
      "Movement to filter button performed\n",
      "Obtained list of Buildings!\n"
     ]
    }
   ],
   "source": [
    "# We open the main page of the tool to get the data\n",
    "driver.get(\"https://foe.tools/es/gb-investment/Space_Needle\")\n",
    "print(\"WebPage Loaded\")\n",
    "time.sleep(10) # Wait 10 seconds to load the page\n",
    "\n",
    "# We wait until cookie button are vissible to remove it\n",
    "WebDriverWait(driver, 10).until(EC.element_to_be_clickable((By.CLASS_NAME, \"css-47sehv\"))).click()\n",
    "\n",
    "# We get the Div element witch contains the list of all buildings\n",
    "GB_nameList_div = driver.find_element(By.ID, \"gbListSelect\")\n",
    "\n",
    "# We select a element in the middle of the page to scroll the windows to here and click the button to change the type of filter to apply to the building list\n",
    "movment_element = driver.find_element(By.ID, \"fieldInvestorPercentage\")\n",
    "webdriver.ActionChains(driver).move_to_element(movment_element).perform()\n",
    "print(\"Movement to filter button performed\")\n",
    "\n",
    "# We click the button to change the type of filter of the buildings list\n",
    "GB_nameList_div.find_element(By.CLASS_NAME, \"bg-blueGray-200\").click()\n",
    "\n",
    "# We get the final list of buildings\n",
    "GB_list = driver.find_element(By.TAG_NAME, \"optgroup\") \\\n",
    "                .find_elements(By.TAG_NAME, \"option\")\n",
    "\n",
    "print(\"Obtained list of Buildings!\")"
   ]
  },
  {
   "cell_type": "code",
   "execution_count": 8,
   "metadata": {},
   "outputs": [
    {
     "name": "stdout",
     "output_type": "stream",
     "text": [
      "42\n"
     ]
    }
   ],
   "source": [
    "# We check if have all buildings (actualy exists 42)\n",
    "print(len(GB_list))"
   ]
  },
  {
   "cell_type": "code",
   "execution_count": 9,
   "metadata": {},
   "outputs": [
    {
     "name": "stdout",
     "output_type": "stream",
     "text": [
      "Building 1 of 42\n",
      "Building 2 of 42\n",
      "Building 3 of 42\n",
      "Building 4 of 42\n",
      "Building 5 of 42\n",
      "Building 6 of 42\n",
      "Building 7 of 42\n",
      "Building 8 of 42\n",
      "Building 9 of 42\n",
      "Building 10 of 42\n",
      "Building 11 of 42\n",
      "Building 12 of 42\n",
      "Building 13 of 42\n",
      "Building 14 of 42\n",
      "Building 15 of 42\n",
      "Building 16 of 42\n",
      "Building 17 of 42\n",
      "Building 18 of 42\n",
      "Building 19 of 42\n",
      "Building 20 of 42\n",
      "Building 21 of 42\n",
      "Building 22 of 42\n",
      "Building 23 of 42\n",
      "Building 24 of 42\n",
      "Building 25 of 42\n",
      "Building 26 of 42\n",
      "Building 27 of 42\n",
      "Building 28 of 42\n",
      "Building 29 of 42\n",
      "Building 30 of 42\n",
      "Building 31 of 42\n",
      "Building 32 of 42\n",
      "Building 33 of 42\n",
      "Building 34 of 42\n",
      "Building 35 of 42\n",
      "Building 36 of 42\n",
      "Building 37 of 42\n",
      "Building 38 of 42\n",
      "Building 39 of 42\n",
      "Building 40 of 42\n",
      "Building 41 of 42\n",
      "Building 42 of 42\n",
      "Data of buildings and their link stored correctly!!\n"
     ]
    }
   ],
   "source": [
    "# We get the links to page from each building\n",
    "base_url = \"https://foe.tools/es/gb-investment/\"\n",
    "GB_list_links = []\n",
    "for index, building in enumerate(GB_list):\n",
    "    print(f\"Building {index + 1} of {len(GB_list)}\")\n",
    "    # We generate the complete url and we make a request to check if is valid\n",
    "    url = base_url + building.get_attribute(\"value\")\n",
    "    request = requests.get(url)\n",
    "\n",
    "    if request.status_code == 200: # If all is ok, we add the information to list\n",
    "        GB_list_links.append(f\"{building.get_attribute('value')};{url}\")\n",
    "    else: # In case of error, we show a message of failure\n",
    "        print(f\"ERROR. There have a problem with the building: {building.get_attribute('value')}\\nURL: {url}. Status Code: {request.status_code}\")\n",
    "\n",
    "# We stored the data in a .csv file to avoid of repeat this step \n",
    "with open (\"../data/links.csv\", \"w\", encoding=\"utf-8\") as file:\n",
    "    file.write(\"Building;Link\\n\")\n",
    "    for line in GB_list_links:\n",
    "        file.write(line + \"\\n\")\n",
    "\n",
    "print(\"Data of buildings and their link stored correctly!!\")"
   ]
  },
  {
   "cell_type": "code",
   "execution_count": 10,
   "metadata": {},
   "outputs": [],
   "source": [
    "driver.close() # We close the browser"
   ]
  },
  {
   "cell_type": "markdown",
   "metadata": {},
   "source": [
    "## Step 2: Extraction of the necesary fps for each level of all buildings"
   ]
  },
  {
   "cell_type": "code",
   "execution_count": 11,
   "metadata": {},
   "outputs": [
    {
     "name": "stderr",
     "output_type": "stream",
     "text": [
      "\n",
      "\n",
      "====== WebDriver manager ======\n",
      "Current google-chrome version is 99.0.4844\n",
      "Get LATEST chromedriver version for 99.0.4844 google-chrome\n",
      "Driver [/Users/jmsimonramos/.wdm/drivers/chromedriver/mac64/99.0.4844.51/chromedriver] found in cache\n",
      "/opt/homebrew/anaconda3/envs/foe/lib/python3.7/site-packages/ipykernel_launcher.py:2: DeprecationWarning: executable_path has been deprecated, please pass in a Service object\n",
      "  \n"
     ]
    }
   ],
   "source": [
    "# Open browser\n",
    "driver = webdriver.Chrome(ChromeDriverManager().install())\n",
    "driver.implicitly_wait(10)"
   ]
  },
  {
   "cell_type": "code",
   "execution_count": 12,
   "metadata": {},
   "outputs": [],
   "source": [
    "with open (\"../tmp/links.csv\", \"r\", encoding=\"utf-8\") as file:\n",
    "    GB_list_links = [line.strip().split(\";\") for line in file.readlines()]\n",
    "# We remove the first item in the list (it`s correspond to the header of the .csv)\n",
    "GB_list_links = GB_list_links[1:]"
   ]
  },
  {
   "cell_type": "code",
   "execution_count": 13,
   "metadata": {},
   "outputs": [
    {
     "name": "stdout",
     "output_type": "stream",
     "text": [
      "All Buildings have been completed satisfactory!!\n"
     ]
    }
   ],
   "source": [
    "for index, (building, link) in enumerate(GB_list_links):\n",
    "    print(f\"Building {index + 1} of {len(GB_list_links)}\")\n",
    "    # We open the page and wait to load it\n",
    "    driver.get(link) \n",
    "    time.sleep(10) # We wait until cookie button are vissible to remove it\n",
    "\n",
    "    if index == 0: # If it`s the first message we remove the cookies banner\n",
    "        try:\n",
    "            WebDriverWait(driver, 10).until(EC.element_to_be_clickable((By.CLASS_NAME, \"css-47sehv\"))).click()\n",
    "        # If cookies banner not appear, we continue with the program without this step\n",
    "        except TimeoutException:\n",
    "            pass\n",
    "    \n",
    "    # We get the part of page wich appear the metadata of the building\n",
    "    GB_level_input = driver.find_element(By.ID, \"giLevel\")\n",
    "    building_name = driver.find_element(By.CLASS_NAME, \"title\").text\n",
    "\n",
    "    # We get the min and max levels of the building\n",
    "    min_level = int( GB_level_input.get_attribute(\"min\") )\n",
    "    max_level = int( GB_level_input.get_attribute(\"max\") )\n",
    "    \n",
    "    print(f\"Building: {building_name} \\t Min Level: {min_level} \\t Max Level: {max_level}\")\n",
    "\n",
    "    # We get the data of the building for all levels between min level and max level\n",
    "    levels_data = getDataLevels(min_level, max_level)\n",
    "\n",
    "    # We create a Great Building object to store the information\n",
    "    GB = GreatBuilding(building_name.replace(\"_\", \" \"), building.replace(\"_\", \" \"), levels_data)\n",
    "\n",
    "    # Finally, we create and store the data of the building\n",
    "    print(\"Create DataFrame\")\n",
    "    GB.createDataFrame() \n",
    "    print(\"Stored DataFrame\")\n",
    "    GB.saveDataFrame()\n",
    "    print(\"================================================\\n\")\n",
    "\n",
    "print(\"All Buildings have been completed satisfactory!!\")"
   ]
  },
  {
   "cell_type": "code",
   "execution_count": 14,
   "metadata": {},
   "outputs": [],
   "source": [
    "driver.close() # We close the browser"
   ]
  },
  {
   "cell_type": "markdown",
   "metadata": {},
   "source": [
    "### Step 3: We calculate the Arc 80 Bonus for all levels"
   ]
  },
  {
   "cell_type": "code",
   "execution_count": 15,
   "metadata": {},
   "outputs": [
    {
     "data": {
      "text/plain": [
       "['AgujaEspacial.csv',\n",
       " 'Alcatraz.csv',\n",
       " 'AlmacenDeSemillas.csv',\n",
       " 'Atomium.csv',\n",
       " 'BasilicaDeSanMarcos.csv']"
      ]
     },
     "execution_count": 15,
     "metadata": {},
     "output_type": "execute_result"
    }
   ],
   "source": [
    "# We get the list of all files in buildings directory (building_name.csv)\n",
    "files_list = [file for file in os.listdir(\"../data/buildings\")]\n",
    "files_list = sorted(files_list)\n",
    "files_list[:5]"
   ]
  },
  {
   "cell_type": "code",
   "execution_count": 16,
   "metadata": {},
   "outputs": [],
   "source": [
    "for file in files_list:\n",
    "    df = pd.read_csv(f\"../data/buildings/{file}\", sep=\";\", encoding=\"utf-8\")\n",
    "    # We calculate the arc level 80 bonus\n",
    "    df[\"P1 Reward (Arc Level 80)\"] = df[\"P1 Reward\"].apply(lambda x: math.ceil(x * 1.9) )\n",
    "    df[\"P2 Reward (Arc Level 80)\"] = df[\"P2 Reward\"].apply(lambda x: math.ceil(x * 1.9) )\n",
    "    df[\"P3 Reward (Arc Level 80)\"] = df[\"P3 Reward\"].apply(lambda x: math.ceil(x * 1.9) )\n",
    "    df[\"P4 Reward (Arc Level 80)\"] = df[\"P4 Reward\"].apply(lambda x: math.ceil(x * 1.9) )\n",
    "    df[\"P5 Reward (Arc Level 80)\"] = df[\"P5 Reward\"].apply(lambda x: math.ceil(x * 1.9) )\n",
    "    # Save de dataframe with new data\n",
    "    df.to_csv(f\"../data/buildings/{file}\", sep=\";\", header=True, index=False, encoding=\"utf-8\")"
   ]
  },
  {
   "cell_type": "markdown",
   "metadata": {},
   "source": [
    "### Step 4: Create a big DataFrame with the levels of all buildings"
   ]
  },
  {
   "cell_type": "code",
   "execution_count": 17,
   "metadata": {},
   "outputs": [],
   "source": [
    "def formatBuildingName(building_name):    \n",
    "    # We create a list with each item starting with a capital letter, and join them together by introducing a blank space between the words. Finally we remove the file extension\n",
    "    return \" \".join( re.findall('[A-Z][^A-Z]*', building_name) ).replace(\".csv\", \"\")"
   ]
  },
  {
   "cell_type": "code",
   "execution_count": 18,
   "metadata": {},
   "outputs": [
    {
     "data": {
      "text/plain": [
       "['AgujaEspacial.csv',\n",
       " 'Alcatraz.csv',\n",
       " 'AlmacenDeSemillas.csv',\n",
       " 'Atomium.csv',\n",
       " 'BasilicaDeSanMarcos.csv']"
      ]
     },
     "execution_count": 18,
     "metadata": {},
     "output_type": "execute_result"
    }
   ],
   "source": [
    "# We get the list of all files in buildings directory (building_name.csv)\n",
    "files_list = [file for file in os.listdir(\"../data/buildings\")]\n",
    "files_list = sorted(files_list)\n",
    "files_list[:5]"
   ]
  },
  {
   "cell_type": "code",
   "execution_count": 19,
   "metadata": {},
   "outputs": [
    {
     "data": {
      "text/html": [
       "<div>\n",
       "<style scoped>\n",
       "    .dataframe tbody tr th:only-of-type {\n",
       "        vertical-align: middle;\n",
       "    }\n",
       "\n",
       "    .dataframe tbody tr th {\n",
       "        vertical-align: top;\n",
       "    }\n",
       "\n",
       "    .dataframe thead th {\n",
       "        text-align: right;\n",
       "    }\n",
       "</style>\n",
       "<table border=\"1\" class=\"dataframe\">\n",
       "  <thead>\n",
       "    <tr style=\"text-align: right;\">\n",
       "      <th></th>\n",
       "      <th>Building Name ESP</th>\n",
       "      <th>Building Name ING</th>\n",
       "      <th>Age</th>\n",
       "      <th>Size</th>\n",
       "      <th>Features</th>\n",
       "    </tr>\n",
       "  </thead>\n",
       "  <tbody>\n",
       "    <tr>\n",
       "      <th>0</th>\n",
       "      <td>Aguja Espacial</td>\n",
       "      <td>Space Needle</td>\n",
       "      <td>Edad Moderna</td>\n",
       "      <td>6x5</td>\n",
       "      <td>Producción de monedas: Felicidad</td>\n",
       "    </tr>\n",
       "    <tr>\n",
       "      <th>1</th>\n",
       "      <td>Alcatraz</td>\n",
       "      <td>Alcatraz</td>\n",
       "      <td>Era del Progreso</td>\n",
       "      <td>10x7</td>\n",
       "      <td>Unidad Penitenciaria Felicidad</td>\n",
       "    </tr>\n",
       "    <tr>\n",
       "      <th>2</th>\n",
       "      <td>Almacen De Semillas</td>\n",
       "      <td>Seed Vault</td>\n",
       "      <td>Futuro Ártico</td>\n",
       "      <td>5x6</td>\n",
       "      <td>Producción de Suministros Manos que ayudan</td>\n",
       "    </tr>\n",
       "    <tr>\n",
       "      <th>3</th>\n",
       "      <td>Atomium</td>\n",
       "      <td>Atomium</td>\n",
       "      <td>Edad Moderna</td>\n",
       "      <td>7x6</td>\n",
       "      <td>Bienes del gremio Felicidad</td>\n",
       "    </tr>\n",
       "    <tr>\n",
       "      <th>4</th>\n",
       "      <td>Basilica De San Marcos</td>\n",
       "      <td>St Mark S Basilica</td>\n",
       "      <td>Plena Edad Media</td>\n",
       "      <td>6x6</td>\n",
       "      <td>Producción de productos Mejora de monedas</td>\n",
       "    </tr>\n",
       "  </tbody>\n",
       "</table>\n",
       "</div>"
      ],
      "text/plain": [
       "        Building Name ESP   Building Name ING               Age  Size  \\\n",
       "0          Aguja Espacial        Space Needle      Edad Moderna   6x5   \n",
       "1                Alcatraz            Alcatraz  Era del Progreso  10x7   \n",
       "2     Almacen De Semillas          Seed Vault     Futuro Ártico   5x6   \n",
       "3                 Atomium             Atomium      Edad Moderna   7x6   \n",
       "4  Basilica De San Marcos  St Mark S Basilica  Plena Edad Media   6x6   \n",
       "\n",
       "                                     Features  \n",
       "0            Producción de monedas: Felicidad  \n",
       "1              Unidad Penitenciaria Felicidad  \n",
       "2  Producción de Suministros Manos que ayudan  \n",
       "3                 Bienes del gremio Felicidad  \n",
       "4   Producción de productos Mejora de monedas  "
      ]
     },
     "execution_count": 19,
     "metadata": {},
     "output_type": "execute_result"
    }
   ],
   "source": [
    "building_df = pd.read_csv(\"../data/buildingsInfo.csv\", sep=\";\", encoding=\"utf-8\")\n",
    "building_df.head()"
   ]
  },
  {
   "cell_type": "code",
   "execution_count": 20,
   "metadata": {},
   "outputs": [
    {
     "name": "stdout",
     "output_type": "stream",
     "text": [
      "Final DataFrame dimensions: (6452, 16)\n"
     ]
    }
   ],
   "source": [
    "joined_df = pd.DataFrame()\n",
    "for file in files_list:\n",
    "    df = pd.read_csv(f\"../data/buildings/{file}\", sep=\";\", encoding=\"utf-8\") # Load data\n",
    "    # Insert column with building names at firsts postions\n",
    "    building_name_esp = formatBuildingName(file)\n",
    "    building_name_ing = building_df[building_df[\"Building Name ESP\"] == building_name_esp][[\"Building Name ING\"]].values[0][0]\n",
    "    \n",
    "    df.insert(0, \"Building Name ESP\", building_name_esp)\n",
    "    df.insert(1, \"Building Name ING\", building_name_ing)\n",
    "    \n",
    "    # Concat both DataFrames\n",
    "    joined_df = pd.concat([joined_df, df], axis=0)\n",
    "\n",
    "print(f\"Final DataFrame dimensions: {joined_df.shape}\")"
   ]
  },
  {
   "cell_type": "code",
   "execution_count": 21,
   "metadata": {},
   "outputs": [],
   "source": [
    "joined_df.to_csv(\"../data/ALLBuildingLevels.csv\", sep=\";\", index=False, header=True, encoding=\"utf-8\")"
   ]
  }
 ],
 "metadata": {
  "interpreter": {
   "hash": "99398249fd71eb3d90715f617bea27af6d01d6869ca08b67124d6c5d94454095"
  },
  "kernelspec": {
   "display_name": "Python 3 (ipykernel)",
   "language": "python",
   "name": "python3"
  },
  "language_info": {
   "codemirror_mode": {
    "name": "ipython",
    "version": 3
   },
   "file_extension": ".py",
   "mimetype": "text/x-python",
   "name": "python",
   "nbconvert_exporter": "python",
   "pygments_lexer": "ipython3",
   "version": "3.7.11"
  }
 },
 "nbformat": 4,
 "nbformat_minor": 2
}
