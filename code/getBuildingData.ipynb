{
 "cells": [
  {
   "cell_type": "code",
   "execution_count": 1,
   "metadata": {},
   "outputs": [],
   "source": [
    "import pandas as pd\n",
    "import requests\n",
    "import os\n",
    "import re"
   ]
  },
  {
   "cell_type": "markdown",
   "metadata": {},
   "source": [
    "## Step 1: Enrich the actual general data of the buildings"
   ]
  },
  {
   "cell_type": "code",
   "execution_count": 2,
   "metadata": {},
   "outputs": [],
   "source": [
    "def formatBuildingName(building_name):    \n",
    "    # We create a list with each item starting with a capital letter, and join them together by introducing a blank space between the words. Finally we remove the file extension\n",
    "    return \" \".join( re.findall('[A-Z][^A-Z]*', building_name) ).replace(\".csv\", \"\")"
   ]
  },
  {
   "cell_type": "code",
   "execution_count": 3,
   "metadata": {},
   "outputs": [
    {
     "data": {
      "text/plain": [
       "['AgujaEspacial.csv',\n",
       " 'Alcatraz.csv',\n",
       " 'AlmacenDeSemillas.csv',\n",
       " 'Atomium.csv',\n",
       " 'BasilicaDeSanMarcos.csv']"
      ]
     },
     "execution_count": 3,
     "metadata": {},
     "output_type": "execute_result"
    }
   ],
   "source": [
    "# We get the list of all files in buildings directory (building_name.csv)\n",
    "files_list = [file for file in os.listdir(\"../data/buildings\")]\n",
    "files_list = sorted(files_list)\n",
    "files_list[:5]"
   ]
  },
  {
   "cell_type": "code",
   "execution_count": 4,
   "metadata": {},
   "outputs": [
    {
     "data": {
      "text/plain": [
       "['Aguja Espacial',\n",
       " 'Alcatraz',\n",
       " 'Almacen De Semillas',\n",
       " 'Atomium',\n",
       " 'Basilica De San Marcos']"
      ]
     },
     "execution_count": 4,
     "metadata": {},
     "output_type": "execute_result"
    }
   ],
   "source": [
    "formated_name_list = [formatBuildingName(building) for building in files_list]\n",
    "formated_name_list[:5]"
   ]
  },
  {
   "cell_type": "code",
   "execution_count": 5,
   "metadata": {},
   "outputs": [],
   "source": [
    "with open (\"../tmp/links.csv\", \"r\", encoding=\"utf-8\") as file:\n",
    "    GB_list_links = [line.strip().split(\";\") for line in file.readlines()]\n",
    "# We remove the first item in the list (it`s correspond to the header of the .csv)\n",
    "GB_list_links = GB_list_links[1:]"
   ]
  },
  {
   "cell_type": "code",
   "execution_count": 6,
   "metadata": {},
   "outputs": [],
   "source": [
    "# We iterate over the two lists and add the name information in different languages \n",
    "for build_link, format_name in zip(GB_list_links, formated_name_list):\n",
    "    # We remove underlines and insert ESP building name in firts position\n",
    "    build_link[0] = build_link[0].replace(\"_\", \" \").title()\n",
    "    # Build_link = [ESP Name, ING Name, Link]\n",
    "    build_link.insert(0, format_name)"
   ]
  },
  {
   "cell_type": "code",
   "execution_count": 7,
   "metadata": {},
   "outputs": [],
   "source": [
    "# We stored the enrich build data in a .csv file\n",
    "with open (\"../tmp/buildings.csv\", \"w\", encoding=\"utf-8\") as file:\n",
    "    file.write(\"Building Name ESP;Building Name ING;Link\\n\")\n",
    "    for line in GB_list_links:\n",
    "        file.write(\";\".join(line) + \"\\n\")"
   ]
  },
  {
   "cell_type": "markdown",
   "metadata": {},
   "source": [
    "## Step 2: Get new complementary building data"
   ]
  },
  {
   "cell_type": "markdown",
   "metadata": {},
   "source": [
    "### First Time (Search and Create DataFrame)"
   ]
  },
  {
   "cell_type": "code",
   "execution_count": 8,
   "metadata": {},
   "outputs": [
    {
     "data": {
      "text/html": [
       "<div>\n",
       "<style scoped>\n",
       "    .dataframe tbody tr th:only-of-type {\n",
       "        vertical-align: middle;\n",
       "    }\n",
       "\n",
       "    .dataframe tbody tr th {\n",
       "        vertical-align: top;\n",
       "    }\n",
       "\n",
       "    .dataframe thead th {\n",
       "        text-align: right;\n",
       "    }\n",
       "</style>\n",
       "<table border=\"1\" class=\"dataframe\">\n",
       "  <thead>\n",
       "    <tr style=\"text-align: right;\">\n",
       "      <th></th>\n",
       "      <th>Name</th>\n",
       "      <th>Age</th>\n",
       "      <th>Size</th>\n",
       "      <th>Features</th>\n",
       "    </tr>\n",
       "  </thead>\n",
       "  <tbody>\n",
       "    <tr>\n",
       "      <th>0</th>\n",
       "      <td>Observatorio</td>\n",
       "      <td>Sin Era</td>\n",
       "      <td>3x3</td>\n",
       "      <td>Bienes del gremio Bonificación de unidades de ...</td>\n",
       "    </tr>\n",
       "    <tr>\n",
       "      <th>1</th>\n",
       "      <td>Templo de las Reliquias</td>\n",
       "      <td>Sin Era</td>\n",
       "      <td>6x6</td>\n",
       "      <td>Caza de Reliquias</td>\n",
       "    </tr>\n",
       "    <tr>\n",
       "      <th>2</th>\n",
       "      <td>Oráculo de Delfos</td>\n",
       "      <td>Sin Era</td>\n",
       "      <td>3x3</td>\n",
       "      <td>Producción de Suministros Felicidad</td>\n",
       "    </tr>\n",
       "    <tr>\n",
       "      <th>3</th>\n",
       "      <td>Torre de Babel</td>\n",
       "      <td>Edad de Bronce</td>\n",
       "      <td>4x4</td>\n",
       "      <td>Producción de productos Población</td>\n",
       "    </tr>\n",
       "    <tr>\n",
       "      <th>4</th>\n",
       "      <td>Estatua de Zeus</td>\n",
       "      <td>Edad de Bronce</td>\n",
       "      <td>2x3</td>\n",
       "      <td>Mejora de ejércitos</td>\n",
       "    </tr>\n",
       "  </tbody>\n",
       "</table>\n",
       "</div>"
      ],
      "text/plain": [
       "                      Name             Age Size  \\\n",
       "0             Observatorio         Sin Era  3x3   \n",
       "1  Templo de las Reliquias         Sin Era  6x6   \n",
       "2        Oráculo de Delfos         Sin Era  3x3   \n",
       "3           Torre de Babel  Edad de Bronce  4x4   \n",
       "4          Estatua de Zeus  Edad de Bronce  2x3   \n",
       "\n",
       "                                            Features  \n",
       "0  Bienes del gremio Bonificación de unidades de ...  \n",
       "1                                  Caza de Reliquias  \n",
       "2                Producción de Suministros Felicidad  \n",
       "3                  Producción de productos Población  \n",
       "4                                Mejora de ejércitos  "
      ]
     },
     "execution_count": 8,
     "metadata": {},
     "output_type": "execute_result"
    }
   ],
   "source": [
    "# We take the main page of the wiki of FOE where appears the list of the all buildings and there features\n",
    "\n",
    "main_url = \"https://es.wiki.forgeofempires.com/index.php?title=Grandes_Edificios\"\n",
    "main_request = requests.get(main_url)\n",
    "\n",
    "# We get the list of all tables that exists in the page\n",
    "tables_list_df = pd.read_html(main_request.text)\n",
    "\n",
    "# We keep the second table that appears since it is the one that contains the information of the buildings (See the page to know the position within the array where it is located) and we eliminate the column \"Unnamed: 0\" since it corresponds to the image of the building.\n",
    "GB_DF = tables_list_df[1].drop([\"Unnamed: 0\"], axis = 1)\n",
    "GB_DF.columns = [\"Name\", \"Age\", \"Size\", \"Features\"]\n",
    "\n",
    "# Generamos un csv con la información principal de los edificios (Nombre, Era, Tamaño y su Habilidad)\n",
    "GB_DF.to_csv(\"../tmp/GBWiki.csv\", sep = \";\", header = True, index_label=\"ID\")\n",
    "\n",
    "GB_DF.head()"
   ]
  },
  {
   "cell_type": "markdown",
   "metadata": {},
   "source": [
    "### Other times (We already have the DataFrame)"
   ]
  },
  {
   "cell_type": "code",
   "execution_count": 9,
   "metadata": {},
   "outputs": [
    {
     "data": {
      "text/html": [
       "<div>\n",
       "<style scoped>\n",
       "    .dataframe tbody tr th:only-of-type {\n",
       "        vertical-align: middle;\n",
       "    }\n",
       "\n",
       "    .dataframe tbody tr th {\n",
       "        vertical-align: top;\n",
       "    }\n",
       "\n",
       "    .dataframe thead th {\n",
       "        text-align: right;\n",
       "    }\n",
       "</style>\n",
       "<table border=\"1\" class=\"dataframe\">\n",
       "  <thead>\n",
       "    <tr style=\"text-align: right;\">\n",
       "      <th></th>\n",
       "      <th>Age</th>\n",
       "      <th>Size</th>\n",
       "      <th>Features</th>\n",
       "    </tr>\n",
       "  </thead>\n",
       "  <tbody>\n",
       "    <tr>\n",
       "      <th>20</th>\n",
       "      <td>Edad Moderna</td>\n",
       "      <td>6x5</td>\n",
       "      <td>Producción de monedas: Felicidad</td>\n",
       "    </tr>\n",
       "    <tr>\n",
       "      <th>19</th>\n",
       "      <td>Era del Progreso</td>\n",
       "      <td>10x7</td>\n",
       "      <td>Unidad Penitenciaria Felicidad</td>\n",
       "    </tr>\n",
       "    <tr>\n",
       "      <th>31</th>\n",
       "      <td>Futuro Ártico</td>\n",
       "      <td>5x6</td>\n",
       "      <td>Producción de Suministros Manos que ayudan</td>\n",
       "    </tr>\n",
       "    <tr>\n",
       "      <th>21</th>\n",
       "      <td>Edad Moderna</td>\n",
       "      <td>7x6</td>\n",
       "      <td>Bienes del gremio Felicidad</td>\n",
       "    </tr>\n",
       "    <tr>\n",
       "      <th>10</th>\n",
       "      <td>Plena Edad Media</td>\n",
       "      <td>6x6</td>\n",
       "      <td>Producción de productos Mejora de monedas</td>\n",
       "    </tr>\n",
       "  </tbody>\n",
       "</table>\n",
       "</div>"
      ],
      "text/plain": [
       "                 Age  Size                                    Features\n",
       "20      Edad Moderna   6x5            Producción de monedas: Felicidad\n",
       "19  Era del Progreso  10x7              Unidad Penitenciaria Felicidad\n",
       "31     Futuro Ártico   5x6  Producción de Suministros Manos que ayudan\n",
       "21      Edad Moderna   7x6                 Bienes del gremio Felicidad\n",
       "10  Plena Edad Media   6x6   Producción de productos Mejora de monedas"
      ]
     },
     "execution_count": 9,
     "metadata": {},
     "output_type": "execute_result"
    }
   ],
   "source": [
    "# We charge the building data from the wiki and order their values by building name to join easiest with our dataframe\n",
    "Wiki_GB_df = pd.read_csv(\"../tmp/GBWiki.csv\", sep = \";\", encoding=\"utf-8\")\n",
    "Wiki_GB_df.sort_values(by=[\"Name\"], inplace=True)\n",
    "\n",
    "Wiki_GB_df = Wiki_GB_df[[\"Age\", \"Size\", \"Features\"]] # Remove unnecesary columns\n",
    "Wiki_GB_df.head()"
   ]
  },
  {
   "cell_type": "code",
   "execution_count": 10,
   "metadata": {},
   "outputs": [
    {
     "data": {
      "text/html": [
       "<div>\n",
       "<style scoped>\n",
       "    .dataframe tbody tr th:only-of-type {\n",
       "        vertical-align: middle;\n",
       "    }\n",
       "\n",
       "    .dataframe tbody tr th {\n",
       "        vertical-align: top;\n",
       "    }\n",
       "\n",
       "    .dataframe thead th {\n",
       "        text-align: right;\n",
       "    }\n",
       "</style>\n",
       "<table border=\"1\" class=\"dataframe\">\n",
       "  <thead>\n",
       "    <tr style=\"text-align: right;\">\n",
       "      <th></th>\n",
       "      <th>Building Name ESP</th>\n",
       "      <th>Building Name ING</th>\n",
       "    </tr>\n",
       "  </thead>\n",
       "  <tbody>\n",
       "    <tr>\n",
       "      <th>0</th>\n",
       "      <td>Aguja Espacial</td>\n",
       "      <td>Space Needle</td>\n",
       "    </tr>\n",
       "    <tr>\n",
       "      <th>1</th>\n",
       "      <td>Alcatraz</td>\n",
       "      <td>Alcatraz</td>\n",
       "    </tr>\n",
       "    <tr>\n",
       "      <th>2</th>\n",
       "      <td>Almacen De Semillas</td>\n",
       "      <td>Seed Vault</td>\n",
       "    </tr>\n",
       "    <tr>\n",
       "      <th>3</th>\n",
       "      <td>Atomium</td>\n",
       "      <td>Atomium</td>\n",
       "    </tr>\n",
       "    <tr>\n",
       "      <th>4</th>\n",
       "      <td>Basilica De San Marcos</td>\n",
       "      <td>St Mark S Basilica</td>\n",
       "    </tr>\n",
       "  </tbody>\n",
       "</table>\n",
       "</div>"
      ],
      "text/plain": [
       "        Building Name ESP   Building Name ING\n",
       "0          Aguja Espacial        Space Needle\n",
       "1                Alcatraz            Alcatraz\n",
       "2     Almacen De Semillas          Seed Vault\n",
       "3                 Atomium             Atomium\n",
       "4  Basilica De San Marcos  St Mark S Basilica"
      ]
     },
     "execution_count": 10,
     "metadata": {},
     "output_type": "execute_result"
    }
   ],
   "source": [
    "# We carge our DataFrame\n",
    "GB_df = pd.read_csv(\"../tmp/buildings.csv\", sep = \";\", encoding=\"utf-8\")\n",
    "GB_df = GB_df[[\"Building Name ESP\", \"Building Name ING\"]]\n",
    "GB_df.head()"
   ]
  },
  {
   "cell_type": "code",
   "execution_count": 11,
   "metadata": {},
   "outputs": [
    {
     "data": {
      "text/html": [
       "<div>\n",
       "<style scoped>\n",
       "    .dataframe tbody tr th:only-of-type {\n",
       "        vertical-align: middle;\n",
       "    }\n",
       "\n",
       "    .dataframe tbody tr th {\n",
       "        vertical-align: top;\n",
       "    }\n",
       "\n",
       "    .dataframe thead th {\n",
       "        text-align: right;\n",
       "    }\n",
       "</style>\n",
       "<table border=\"1\" class=\"dataframe\">\n",
       "  <thead>\n",
       "    <tr style=\"text-align: right;\">\n",
       "      <th></th>\n",
       "      <th>Building Name ESP</th>\n",
       "      <th>Building Name ING</th>\n",
       "      <th>Age</th>\n",
       "      <th>Size</th>\n",
       "      <th>Features</th>\n",
       "    </tr>\n",
       "  </thead>\n",
       "  <tbody>\n",
       "    <tr>\n",
       "      <th>0</th>\n",
       "      <td>Aguja Espacial</td>\n",
       "      <td>Space Needle</td>\n",
       "      <td>Edad Moderna</td>\n",
       "      <td>6x5</td>\n",
       "      <td>Producción de monedas: Felicidad</td>\n",
       "    </tr>\n",
       "    <tr>\n",
       "      <th>1</th>\n",
       "      <td>Alcatraz</td>\n",
       "      <td>Alcatraz</td>\n",
       "      <td>Era del Progreso</td>\n",
       "      <td>10x7</td>\n",
       "      <td>Unidad Penitenciaria Felicidad</td>\n",
       "    </tr>\n",
       "    <tr>\n",
       "      <th>2</th>\n",
       "      <td>Almacen De Semillas</td>\n",
       "      <td>Seed Vault</td>\n",
       "      <td>Futuro Ártico</td>\n",
       "      <td>5x6</td>\n",
       "      <td>Producción de Suministros Manos que ayudan</td>\n",
       "    </tr>\n",
       "    <tr>\n",
       "      <th>3</th>\n",
       "      <td>Atomium</td>\n",
       "      <td>Atomium</td>\n",
       "      <td>Edad Moderna</td>\n",
       "      <td>7x6</td>\n",
       "      <td>Bienes del gremio Felicidad</td>\n",
       "    </tr>\n",
       "    <tr>\n",
       "      <th>4</th>\n",
       "      <td>Basilica De San Marcos</td>\n",
       "      <td>St Mark S Basilica</td>\n",
       "      <td>Plena Edad Media</td>\n",
       "      <td>6x6</td>\n",
       "      <td>Producción de productos Mejora de monedas</td>\n",
       "    </tr>\n",
       "  </tbody>\n",
       "</table>\n",
       "</div>"
      ],
      "text/plain": [
       "        Building Name ESP   Building Name ING               Age  Size  \\\n",
       "0          Aguja Espacial        Space Needle      Edad Moderna   6x5   \n",
       "1                Alcatraz            Alcatraz  Era del Progreso  10x7   \n",
       "2     Almacen De Semillas          Seed Vault     Futuro Ártico   5x6   \n",
       "3                 Atomium             Atomium      Edad Moderna   7x6   \n",
       "4  Basilica De San Marcos  St Mark S Basilica  Plena Edad Media   6x6   \n",
       "\n",
       "                                     Features  \n",
       "0            Producción de monedas: Felicidad  \n",
       "1              Unidad Penitenciaria Felicidad  \n",
       "2  Producción de Suministros Manos que ayudan  \n",
       "3                 Bienes del gremio Felicidad  \n",
       "4   Producción de productos Mejora de monedas  "
      ]
     },
     "execution_count": 11,
     "metadata": {},
     "output_type": "execute_result"
    }
   ],
   "source": [
    "# We combine the two DataFrame to get all of information\n",
    "# We reset index because we want concat ignore that\n",
    "final_DF = pd.concat([GB_df, Wiki_GB_df.reset_index()], axis = 1)\n",
    "final_DF.drop(\"index\", axis = 1, inplace=True) # Remove the new column create due reset index\n",
    "final_DF.rename(columns={\"Link\": \"Link Calculator Tool\"}, inplace=True)\n",
    "final_DF.head()"
   ]
  },
  {
   "cell_type": "code",
   "execution_count": 12,
   "metadata": {},
   "outputs": [],
   "source": [
    "final_DF.to_csv(\"../data/buildingsInfo.csv\", sep=\";\", header=True, index=False, encoding=\"utf-8\")"
   ]
  }
 ],
 "metadata": {
  "interpreter": {
   "hash": "99398249fd71eb3d90715f617bea27af6d01d6869ca08b67124d6c5d94454095"
  },
  "kernelspec": {
   "display_name": "Python 3.7.11 64-bit ('foe': conda)",
   "language": "python",
   "name": "python3"
  },
  "language_info": {
   "codemirror_mode": {
    "name": "ipython",
    "version": 3
   },
   "file_extension": ".py",
   "mimetype": "text/x-python",
   "name": "python",
   "nbconvert_exporter": "python",
   "pygments_lexer": "ipython3",
   "version": "3.7.11"
  }
 },
 "nbformat": 4,
 "nbformat_minor": 2
}
